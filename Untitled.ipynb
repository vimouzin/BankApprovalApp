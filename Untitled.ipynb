{
 "cells": [
  {
   "cell_type": "code",
   "execution_count": 1,
   "id": "f19047f4",
   "metadata": {},
   "outputs": [],
   "source": [
    "import csv\n",
    "\n",
    "k=[\n",
    "   \"Acme_Instore.csv\",\n",
    "    \"Globex_Store.csv\",\n",
    "    \"Universal_Exports.CSV\",\n",
    "    \"WebFor_Customer.csv\"\n",
    "]\n",
    "  \n",
    "path = \"/Users/Standard/Desktop/B2C_IMPROVEMENT_Datasets/new_data/test/\"\n",
    "h = 1\n",
    "for m in k:\n",
    "    with open(path+m,'r') as csvinput:\n",
    "        with open(path+m+\"OUTPUT\"+\".csv\", 'w') as csvoutput:\n",
    "            writer = csv.writer(csvoutput, lineterminator='\\n')\n",
    "            reader = csv.reader(csvinput)\n",
    "\n",
    "            all = []\n",
    "            row = next(reader)\n",
    "           \n",
    "            row.append(\"uniqueKey\")\n",
    "            all.append(row)\n",
    "            \n",
    "            for row in reader:\n",
    "                h= h+1\n",
    "                row.append(h)\n",
    "                all.append(row)\n",
    "\n",
    "            writer.writerows(all)"
   ]
  },
  {
   "cell_type": "code",
   "execution_count": null,
   "id": "b39a1901",
   "metadata": {},
   "outputs": [],
   "source": []
  }
 ],
 "metadata": {
  "kernelspec": {
   "display_name": "Python 3 (ipykernel)",
   "language": "python",
   "name": "python3"
  },
  "language_info": {
   "codemirror_mode": {
    "name": "ipython",
    "version": 3
   },
   "file_extension": ".py",
   "mimetype": "text/x-python",
   "name": "python",
   "nbconvert_exporter": "python",
   "pygments_lexer": "ipython3",
   "version": "3.9.7"
  }
 },
 "nbformat": 4,
 "nbformat_minor": 5
}
