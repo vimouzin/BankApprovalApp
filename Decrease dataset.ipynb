{
 "cells": [
  {
   "cell_type": "code",
   "execution_count": 20,
   "id": "26580f7d",
   "metadata": {},
   "outputs": [],
   "source": [
    "input_file =\"/Users/Standard/Downloads/AcmeMore.csv\"\n",
    "output_file=\"/Users/Standard/Downloads/2_dedup.csv\"\n"
   ]
  },
  {
   "cell_type": "code",
   "execution_count": 21,
   "id": "0446db9c",
   "metadata": {},
   "outputs": [],
   "source": [
    "import pandas as pd\n",
    "df = pd.read_csv(input_file,skiprows=range(500, 1000))\n",
    "df.to_csv(output_file,index=False)"
   ]
  },
  {
   "cell_type": "code",
   "execution_count": null,
   "id": "be6bc996",
   "metadata": {},
   "outputs": [],
   "source": []
  },
  {
   "cell_type": "code",
   "execution_count": null,
   "id": "9e95b667",
   "metadata": {},
   "outputs": [],
   "source": []
  },
  {
   "cell_type": "code",
   "execution_count": null,
   "id": "30d55299",
   "metadata": {},
   "outputs": [],
   "source": []
  }
 ],
 "metadata": {
  "kernelspec": {
   "display_name": "Python 3 (ipykernel)",
   "language": "python",
   "name": "python3"
  },
  "language_info": {
   "codemirror_mode": {
    "name": "ipython",
    "version": 3
   },
   "file_extension": ".py",
   "mimetype": "text/x-python",
   "name": "python",
   "nbconvert_exporter": "python",
   "pygments_lexer": "ipython3",
   "version": "3.9.7"
  }
 },
 "nbformat": 4,
 "nbformat_minor": 5
}
