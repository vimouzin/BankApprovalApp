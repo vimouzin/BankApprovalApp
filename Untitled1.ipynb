{
 "cells": [
  {
   "cell_type": "code",
   "execution_count": 84,
   "id": "bf527995",
   "metadata": {},
   "outputs": [
    {
     "ename": "ModuleNotFoundError",
     "evalue": "No module named 'faker.provider'",
     "output_type": "error",
     "traceback": [
      "\u001b[0;31m---------------------------------------------------------------------------\u001b[0m",
      "\u001b[0;31mModuleNotFoundError\u001b[0m                       Traceback (most recent call last)",
      "\u001b[0;32m/var/folders/r3/s6hb59ps6wlbvb8krcm68y8w0000gq/T/ipykernel_80762/1915528676.py\u001b[0m in \u001b[0;36m<module>\u001b[0;34m\u001b[0m\n\u001b[1;32m      1\u001b[0m \u001b[0;32mimport\u001b[0m \u001b[0mfaker\u001b[0m\u001b[0;34m\u001b[0m\u001b[0;34m\u001b[0m\u001b[0m\n\u001b[0;32m----> 2\u001b[0;31m \u001b[0;32mimport\u001b[0m \u001b[0mfaker\u001b[0m\u001b[0;34m.\u001b[0m\u001b[0mprovider\u001b[0m\u001b[0;34m\u001b[0m\u001b[0;34m\u001b[0m\u001b[0m\n\u001b[0m\u001b[1;32m      3\u001b[0m \u001b[0;32mfrom\u001b[0m \u001b[0mfaker\u001b[0m\u001b[0;34m.\u001b[0m\u001b[0mproviders\u001b[0m\u001b[0;34m.\u001b[0m\u001b[0mphone_number\u001b[0m\u001b[0;34m.\u001b[0m\u001b[0men_US\u001b[0m \u001b[0;32mimport\u001b[0m \u001b[0mProvider\u001b[0m\u001b[0;34m\u001b[0m\u001b[0;34m\u001b[0m\u001b[0m\n",
      "\u001b[0;31mModuleNotFoundError\u001b[0m: No module named 'faker.provider'"
     ]
    }
   ],
   "source": [
    "import faker\n",
    "import faker.provider\n",
    "from faker.providers.phone_number.en_US import Provider"
   ]
  },
  {
   "cell_type": "code",
   "execution_count": null,
   "id": "ee2bfead",
   "metadata": {},
   "outputs": [],
   "source": [
    "from faker import Faker\n",
    "import datetime\n",
    "# generate random integer values\n",
    "from random import seed\n",
    "from random import randint\n",
    "\n",
    "def fake_phone_number(fake: Faker) -> str:\n",
    "    return f'+1508627 {fake.msisdn()[9:]}'\n",
    "records = []\n",
    "for x in range(15000): \n",
    "    fake = Faker()\n",
    "    record = fake.profile()\n",
    "    record[\"residence\"] = record[\"residence\"].replace(\"\\n\",\",\")\n",
    "    #print(record[\"residence\"])\n",
    "    addressArray = record[\"residence\"].split(\",\")\n",
    "    if len(addressArray) >= 3:\n",
    "       # print(addressArray)\n",
    "        record[\"Street\"] = addressArray[0]\n",
    "        record[\"city\"] = addressArray[1]\n",
    "        record[\"state\"] = addressArray[2].split()[0]\n",
    "        record[\"zip_code\"] = addressArray[2].split()[1]\n",
    "        record[\"Shopped_AT\"] = record[\"website\"]\n",
    "        record[\"spend\"] = randint(0, 600)\n",
    "        del record[\"website\"]\n",
    "        del record[\"address\"]\n",
    "        record[\"birthdate\"] = record[\"birthdate\"].strftime('%m/%d/%Y')\n",
    "        del record[\"current_location\"]\n",
    "        record[\"Phone_Number\"] = fake_phone_number(fake)\n",
    "        record[\"Credit_Card_Provider\"] = fake.credit_card_provider()\n",
    "        record[\"Credit_Card_Number\"] = fake.credit_card_number()\n",
    "        record[\"Shopped_Most_AT\"] = record[\"company\"]\n",
    "        del record[\"company\"]\n",
    "        #record\n",
    "        records.append(record)\n",
    "#records\n",
    "df = pd.DataFrame(records)\n",
    "df.to_csv('did_it_vitor.csv')\n",
    "\n",
    "#d= fake.date_of_birth()\n",
    "#d.strftime('%m/%d/%Y')"
   ]
  },
  {
   "cell_type": "code",
   "execution_count": null,
   "id": "4b3d88c9",
   "metadata": {},
   "outputs": [],
   "source": []
  },
  {
   "cell_type": "code",
   "execution_count": null,
   "id": "7be5c23f",
   "metadata": {},
   "outputs": [],
   "source": []
  },
  {
   "cell_type": "code",
   "execution_count": null,
   "id": "7c694a56",
   "metadata": {},
   "outputs": [],
   "source": []
  },
  {
   "cell_type": "code",
   "execution_count": null,
   "id": "6164c102",
   "metadata": {},
   "outputs": [],
   "source": []
  },
  {
   "cell_type": "code",
   "execution_count": null,
   "id": "37693832",
   "metadata": {},
   "outputs": [],
   "source": []
  }
 ],
 "metadata": {
  "kernelspec": {
   "display_name": "Python 3 (ipykernel)",
   "language": "python",
   "name": "python3"
  },
  "language_info": {
   "codemirror_mode": {
    "name": "ipython",
    "version": 3
   },
   "file_extension": ".py",
   "mimetype": "text/x-python",
   "name": "python",
   "nbconvert_exporter": "python",
   "pygments_lexer": "ipython3",
   "version": "3.9.7"
  }
 },
 "nbformat": 4,
 "nbformat_minor": 5
}
