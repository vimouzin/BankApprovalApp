{
 "cells": [
  {
   "cell_type": "code",
   "execution_count": 5,
   "id": "2191121b",
   "metadata": {},
   "outputs": [],
   "source": [
    "from tamr_unify_client import Client\n",
    "from tamr_unify_client.auth import UsernamePasswordAuth\n",
    "import pandas as pd\n",
    "import json\n",
    "auth = UsernamePasswordAuth('admin','production')\n",
    "unify_client = Client(auth, host='10.20.1.222', base_path='/api/')\n",
    "proj_name = 'Customer 360 - Individuals'\n",
    "ud_name ='Customer 360 - Individuals_unified_dataset'\n",
    "\n",
    "def query_hbase(unify_client, record_info, ds_name):\n",
    "    url = f\"dataset/datasets/{ds_name}/records\"\n",
    "    resp = unify_client.post(url, json=record_info)\n",
    "    if resp.status_code >= 300:\n",
    "        print(resp.text)\n",
    "    resp.raise_for_status()\n",
    "    return resp.json()"
   ]
  },
  {
   "cell_type": "code",
   "execution_count": 11,
   "id": "b05c0260",
   "metadata": {},
   "outputs": [
    {
     "name": "stdout",
     "output_type": "stream",
     "text": [
      "[{'origin_source_name': 'Communications', 'origin_entity_id': 'C-C-000013801', 'tamr_id': '-1693710633972652950', 'EMAIL': ['lexi_solo@comcast.net'], 'ZIP': ['30092'], 'STATE': ['GA'], 'PHONE': ['(478)-587-2029'], 'NAME': ['L. Gonzalez'], 'FIRST_NAME': ['L.'], 'LAST_NAME': ['Gonzalez'], 'EMP_TITLE': None, 'CITY': ['Norcross'], 'ADDRESS': ['86 Arrowhead St.\\xa0'], 'ACC_BAL': None, 'ACCOUNT_NUM': None, 'LOAN_AMT': None, 'INSURANCE_AMT': None, 'LOAN_STATUS': None, 'CARD STATUS': None, 'CREDIT_LMT': None, 'CURR_EMP_LENGTH': None, 'HOUSE_TYPE': None, 'INCOME': None, 'INT': None, 'Last Contact': ['1-Dec-17'], 'CLIENT': ['Client'], 'Contact Product': ['Insurance'], 'CARD_TYPE': None, 'PREM': None, 'Number of Contact': ['5'], 'LOAN_PURPOSE': None, 'Customer': ['L. Gonzalez'], 'NAME_COMBINED': ['L.', 'Gonzalez'], 'OWNERSHIP': None, 'ACC_BAL_NUM': None, 'Length of Credit History': None, 'Credit Inquiries': None, 'Credit Score': None, 'Debt': None, 'Revolving Utilization': None, 'Types of Credit Used': None, 'OFAC Alternative Names': None, 'OFAC Entity ID': None, 'OFAC Sanctions': None, 'Passport Number': None, 'NODE ID': None, 'ENTITY LINKS': None, 'Tamr_State': ['Georgia'], 'Tamr_Account_Number': None}, {'origin_source_name': 'Communications', 'origin_entity_id': 'C-C-000013801', 'tamr_id': '-1693710633972652950', 'EMAIL': ['lexi_solo@comcast.net'], 'ZIP': ['30092'], 'STATE': ['GA'], 'PHONE': ['(478)-587-2029'], 'NAME': ['L. Gonzalez'], 'FIRST_NAME': ['L.'], 'LAST_NAME': ['Gonzalez'], 'EMP_TITLE': None, 'CITY': ['Norcross'], 'ADDRESS': ['86 Arrowhead St.\\xa0'], 'ACC_BAL': None, 'ACCOUNT_NUM': None, 'LOAN_AMT': None, 'INSURANCE_AMT': None, 'LOAN_STATUS': None, 'CARD STATUS': None, 'CREDIT_LMT': None, 'CURR_EMP_LENGTH': None, 'HOUSE_TYPE': None, 'INCOME': None, 'INT': None, 'Last Contact': ['1-Dec-17'], 'CLIENT': ['Client'], 'Contact Product': ['Insurance'], 'CARD_TYPE': None, 'PREM': None, 'Number of Contact': ['5'], 'LOAN_PURPOSE': None, 'Customer': ['L. Gonzalez'], 'NAME_COMBINED': ['L.', 'Gonzalez'], 'OWNERSHIP': None, 'ACC_BAL_NUM': None, 'Length of Credit History': None, 'Credit Inquiries': None, 'Credit Score': None, 'Debt': None, 'Revolving Utilization': None, 'Types of Credit Used': None, 'OFAC Alternative Names': None, 'OFAC Entity ID': None, 'OFAC Sanctions': None, 'Passport Number': None, 'NODE ID': None, 'ENTITY LINKS': None, 'Tamr_State': ['Georgia'], 'Tamr_Account_Number': None}, {'origin_source_name': 'Credit Card', 'origin_entity_id': 'CD-000343', 'tamr_id': '-7178353225311888461', 'EMAIL': None, 'ZIP': ['30092'], 'STATE': ['Georgia'], 'PHONE': None, 'NAME': None, 'FIRST_NAME': ['Lexi'], 'LAST_NAME': ['Gonzalez'], 'EMP_TITLE': None, 'CITY': ['Norcross'], 'ADDRESS': ['86 Arrowhead Street\\xa0'], 'ACC_BAL': None, 'ACCOUNT_NUM': ['79001786'], 'LOAN_AMT': None, 'INSURANCE_AMT': None, 'LOAN_STATUS': None, 'CARD STATUS': ['classic'], 'CREDIT_LMT': ['1600'], 'CURR_EMP_LENGTH': None, 'HOUSE_TYPE': None, 'INCOME': None, 'INT': None, 'Last Contact': None, 'CLIENT': None, 'Contact Product': None, 'CARD_TYPE': ['Visa'], 'PREM': None, 'Number of Contact': None, 'LOAN_PURPOSE': None, 'Customer': ['Lexi Gonzalez'], 'NAME_COMBINED': ['Lexi', 'Gonzalez'], 'OWNERSHIP': None, 'ACC_BAL_NUM': None, 'Length of Credit History': None, 'Credit Inquiries': None, 'Credit Score': None, 'Debt': None, 'Revolving Utilization': None, 'Types of Credit Used': None, 'OFAC Alternative Names': None, 'OFAC Entity ID': None, 'OFAC Sanctions': None, 'Passport Number': None, 'NODE ID': None, 'ENTITY LINKS': None, 'Tamr_State': ['Georgia'], 'Tamr_Account_Number': ['79001786']}, {'origin_source_name': 'Communications', 'origin_entity_id': 'C-C-000013801', 'tamr_id': '-1693710633972652950', 'EMAIL': ['lexi_solo@comcast.net'], 'ZIP': ['30092'], 'STATE': ['GA'], 'PHONE': ['(478)-587-2029'], 'NAME': ['L. Gonzalez'], 'FIRST_NAME': ['L.'], 'LAST_NAME': ['Gonzalez'], 'EMP_TITLE': None, 'CITY': ['Norcross'], 'ADDRESS': ['86 Arrowhead St.\\xa0'], 'ACC_BAL': None, 'ACCOUNT_NUM': None, 'LOAN_AMT': None, 'INSURANCE_AMT': None, 'LOAN_STATUS': None, 'CARD STATUS': None, 'CREDIT_LMT': None, 'CURR_EMP_LENGTH': None, 'HOUSE_TYPE': None, 'INCOME': None, 'INT': None, 'Last Contact': ['1-Dec-17'], 'CLIENT': ['Client'], 'Contact Product': ['Insurance'], 'CARD_TYPE': None, 'PREM': None, 'Number of Contact': ['5'], 'LOAN_PURPOSE': None, 'Customer': ['L. Gonzalez'], 'NAME_COMBINED': ['L.', 'Gonzalez'], 'OWNERSHIP': None, 'ACC_BAL_NUM': None, 'Length of Credit History': None, 'Credit Inquiries': None, 'Credit Score': None, 'Debt': None, 'Revolving Utilization': None, 'Types of Credit Used': None, 'OFAC Alternative Names': None, 'OFAC Entity ID': None, 'OFAC Sanctions': None, 'Passport Number': None, 'NODE ID': None, 'ENTITY LINKS': None, 'Tamr_State': ['Georgia'], 'Tamr_Account_Number': None}, {'origin_source_name': 'Credit Card', 'origin_entity_id': 'CD-000343', 'tamr_id': '-7178353225311888461', 'EMAIL': None, 'ZIP': ['30092'], 'STATE': ['Georgia'], 'PHONE': None, 'NAME': None, 'FIRST_NAME': ['Lexi'], 'LAST_NAME': ['Gonzalez'], 'EMP_TITLE': None, 'CITY': ['Norcross'], 'ADDRESS': ['86 Arrowhead Street\\xa0'], 'ACC_BAL': None, 'ACCOUNT_NUM': ['79001786'], 'LOAN_AMT': None, 'INSURANCE_AMT': None, 'LOAN_STATUS': None, 'CARD STATUS': ['classic'], 'CREDIT_LMT': ['1600'], 'CURR_EMP_LENGTH': None, 'HOUSE_TYPE': None, 'INCOME': None, 'INT': None, 'Last Contact': None, 'CLIENT': None, 'Contact Product': None, 'CARD_TYPE': ['Visa'], 'PREM': None, 'Number of Contact': None, 'LOAN_PURPOSE': None, 'Customer': ['Lexi Gonzalez'], 'NAME_COMBINED': ['Lexi', 'Gonzalez'], 'OWNERSHIP': None, 'ACC_BAL_NUM': None, 'Length of Credit History': None, 'Credit Inquiries': None, 'Credit Score': None, 'Debt': None, 'Revolving Utilization': None, 'Types of Credit Used': None, 'OFAC Alternative Names': None, 'OFAC Entity ID': None, 'OFAC Sanctions': None, 'Passport Number': None, 'NODE ID': None, 'ENTITY LINKS': None, 'Tamr_State': ['Georgia'], 'Tamr_Account_Number': ['79001786']}, {'origin_source_name': 'Accounts', 'origin_entity_id': 'ACC-79001786', 'tamr_id': '4647998907062341122', 'EMAIL': ['lexi_solo@comcast.net'], 'ZIP': ['30092'], 'STATE': ['GA'], 'PHONE': ['(478)-587-2029'], 'NAME': ['Lexi Gonzalez'], 'FIRST_NAME': ['Lexi'], 'LAST_NAME': ['Gonzalez'], 'EMP_TITLE': None, 'CITY': ['Norcross'], 'ADDRESS': ['Arrowhead St.\\xa0'], 'ACC_BAL': ['$36,397.02 '], 'ACCOUNT_NUM': ['ACC-79001786'], 'LOAN_AMT': None, 'INSURANCE_AMT': None, 'LOAN_STATUS': None, 'CARD STATUS': None, 'CREDIT_LMT': None, 'CURR_EMP_LENGTH': None, 'HOUSE_TYPE': None, 'INCOME': None, 'INT': None, 'Last Contact': None, 'CLIENT': None, 'Contact Product': None, 'CARD_TYPE': None, 'PREM': None, 'Number of Contact': None, 'LOAN_PURPOSE': None, 'Customer': ['Lexi Gonzalez'], 'NAME_COMBINED': ['Lexi', 'Gonzalez'], 'OWNERSHIP': None, 'ACC_BAL_NUM': ['36397.02 '], 'Length of Credit History': None, 'Credit Inquiries': None, 'Credit Score': None, 'Debt': None, 'Revolving Utilization': None, 'Types of Credit Used': None, 'OFAC Alternative Names': None, 'OFAC Entity ID': None, 'OFAC Sanctions': None, 'Passport Number': None, 'NODE ID': None, 'ENTITY LINKS': None, 'Tamr_State': ['Georgia'], 'Tamr_Account_Number': ['79001786']}]\n"
     ]
    }
   ],
   "source": [
    "test=[]\n",
    "cluster_toquery = {'persistentId': 'ae135a1f-e36c-3b75-94f0-847d88a15aab'}\n",
    "ds_name = f'{ud_name}_dedup_published_cluster_stats'\n",
    "cluster_info = query_hbase(unify_client, cluster_toquery, ds_name)\n",
    "cluster_info\n",
    "   \n",
    "cluster_members = cluster_info['recordIds']\n",
    "cluster_members\n",
    "records_toquery = [{\"tamr_id\": val[\"entityId\"]} for val in cluster_members]\n",
    "record_info = []\n",
    "for rec in records_toquery:\n",
    "    record_info.append(query_hbase(unify_client, rec, ud_name))\n",
    "    all_recs = {rec['tamr_id']: rec for rec in record_info}\n",
    "    keysList = list(all_recs.keys())\n",
    "    for key in keysList:\n",
    "        all_recs[key]\n",
    "        test.append(all_recs[key])\n",
    "print(test)"
   ]
  },
  {
   "cell_type": "code",
   "execution_count": null,
   "id": "7b12a60d",
   "metadata": {},
   "outputs": [],
   "source": []
  }
 ],
 "metadata": {
  "kernelspec": {
   "display_name": "Python 3 (ipykernel)",
   "language": "python",
   "name": "python3"
  },
  "language_info": {
   "codemirror_mode": {
    "name": "ipython",
    "version": 3
   },
   "file_extension": ".py",
   "mimetype": "text/x-python",
   "name": "python",
   "nbconvert_exporter": "python",
   "pygments_lexer": "ipython3",
   "version": "3.9.7"
  }
 },
 "nbformat": 4,
 "nbformat_minor": 5
}
