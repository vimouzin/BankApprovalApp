{
 "cells": [
  {
   "cell_type": "code",
   "execution_count": 4,
   "id": "33429c35",
   "metadata": {},
   "outputs": [
    {
     "name": "stdout",
     "output_type": "stream",
     "text": [
      "Empty DataFrame\n",
      "Columns: [dateofbirth, billingNumber, emails, firstName, lastName, name, phone, city, gender, state, zip, streetAddress, last_purchase_date, sales, phone_number_extracted, state_descriptive, accountDate, empty, country, id]\n",
      "Index: []\n"
     ]
    }
   ],
   "source": [
    "import pandas as pd\n",
    "\n",
    "df = pd.read_csv('/Users/Standard/Desktop/snowflake/Acme_online_two.CSV', sep=',')\n",
    "df.dropna(inplace=True)\n",
    "print(df)\n",
    "df.to_csv('/Users/Standard/Desktop/snowflake/Acme_online_two_empty.CSV', sep='\\t', encoding='utf-8')\n"
   ]
  },
  {
   "cell_type": "code",
   "execution_count": null,
   "id": "3699b5cb",
   "metadata": {},
   "outputs": [],
   "source": []
  }
 ],
 "metadata": {
  "kernelspec": {
   "display_name": "Python 3 (ipykernel)",
   "language": "python",
   "name": "python3"
  },
  "language_info": {
   "codemirror_mode": {
    "name": "ipython",
    "version": 3
   },
   "file_extension": ".py",
   "mimetype": "text/x-python",
   "name": "python",
   "nbconvert_exporter": "python",
   "pygments_lexer": "ipython3",
   "version": "3.9.7"
  }
 },
 "nbformat": 4,
 "nbformat_minor": 5
}
