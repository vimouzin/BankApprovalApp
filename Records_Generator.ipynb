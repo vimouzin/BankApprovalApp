{
 "cells": [
  {
   "cell_type": "code",
   "execution_count": 84,
   "id": "bf527995",
   "metadata": {},
   "outputs": [
    {
     "ename": "ModuleNotFoundError",
     "evalue": "No module named 'faker.provider'",
     "output_type": "error",
     "traceback": [
      "\u001b[0;31m---------------------------------------------------------------------------\u001b[0m",
      "\u001b[0;31mModuleNotFoundError\u001b[0m                       Traceback (most recent call last)",
      "\u001b[0;32m/var/folders/r3/s6hb59ps6wlbvb8krcm68y8w0000gq/T/ipykernel_80762/1915528676.py\u001b[0m in \u001b[0;36m<module>\u001b[0;34m\u001b[0m\n\u001b[1;32m      1\u001b[0m \u001b[0;32mimport\u001b[0m \u001b[0mfaker\u001b[0m\u001b[0;34m\u001b[0m\u001b[0;34m\u001b[0m\u001b[0m\n\u001b[0;32m----> 2\u001b[0;31m \u001b[0;32mimport\u001b[0m \u001b[0mfaker\u001b[0m\u001b[0;34m.\u001b[0m\u001b[0mprovider\u001b[0m\u001b[0;34m\u001b[0m\u001b[0;34m\u001b[0m\u001b[0m\n\u001b[0m\u001b[1;32m      3\u001b[0m \u001b[0;32mfrom\u001b[0m \u001b[0mfaker\u001b[0m\u001b[0;34m.\u001b[0m\u001b[0mproviders\u001b[0m\u001b[0;34m.\u001b[0m\u001b[0mphone_number\u001b[0m\u001b[0;34m.\u001b[0m\u001b[0men_US\u001b[0m \u001b[0;32mimport\u001b[0m \u001b[0mProvider\u001b[0m\u001b[0;34m\u001b[0m\u001b[0;34m\u001b[0m\u001b[0m\n",
      "\u001b[0;31mModuleNotFoundError\u001b[0m: No module named 'faker.provider'"
     ]
    }
   ],
   "source": [
    "import faker\n",
    "import faker.provider\n",
    "from faker.providers.phone_number.en_US import Provider"
   ]
  },
  {
   "cell_type": "code",
   "execution_count": 8,
   "id": "ee2bfead",
   "metadata": {},
   "outputs": [],
   "source": [
    "from faker import Faker\n",
    "import datetime\n",
    "# generate random integer values\n",
    "from random import seed\n",
    "from random import randint\n",
    "import numpy as np\n",
    "\n",
    "import pandas as pd\n",
    "def fake_phone_number(fake: Faker) -> str:\n",
    "    return f'+1508627 {fake.msisdn()[9:]}'\n",
    "records = []\n",
    "for x in range(65000): \n",
    "    fake = Faker()\n",
    "    record = fake.profile()\n",
    "    record[\"residence\"] = record[\"residence\"].replace(\"\\n\",\",\")\n",
    "    #print(record[\"residence\"])\n",
    "    addressArray = record[\"residence\"].split(\",\")\n",
    "    if len(addressArray) >= 3:\n",
    "       # print(addressArray)\n",
    "        record[\"Street\"] = addressArray[0]\n",
    "        record[\"City\"] = addressArray[1]\n",
    "        record[\"State\"] = addressArray[2].split()[0]\n",
    "        record[\"Zip_Code\"] = addressArray[2].split()[1]\n",
    "        record[\"Shopped_AT\"] = record[\"website\"]\n",
    "        record[\"Spent_Amount\"] = randint(0, 600)\n",
    "        del record[\"website\"]\n",
    "        del record[\"address\"]\n",
    "        record[\"birthdate\"] = record[\"birthdate\"].strftime('%m/%d/%Y')\n",
    "        del record[\"current_location\"]\n",
    "        record[\"Phone_Number\"] = fake_phone_number(fake)\n",
    "        record[\"Credit_Card_Provider\"] = fake.credit_card_provider()\n",
    "        record[\"Credit_Card_Number\"] = fake.credit_card_number()\n",
    "        record[\"Shopped_Most_AT\"] = record[\"company\"]\n",
    "        record[\"Middle_Name\"] = fake.first_name_nonbinary()\n",
    "        record[\"Suffix\"] = fake.suffix_nonbinary()\n",
    "        record[\"Country\"] = \"USA\"\n",
    "        record[\"First_Name\"] = record[\"name\"].split()[0]\n",
    "        record[\"Last_Name\"] = record[\"name\"].split()[1]\n",
    "\n",
    "        \n",
    "\n",
    "        del record[\"company\"]\n",
    "        #record\n",
    "        records.append(record)\n",
    "#records\n",
    "df = pd.DataFrame(records)\n",
    "df.to_csv('data_version_2.csv')\n",
    "\n",
    "#d= fake.date_of_birth()\n",
    "#d.strftime('%m/%d/%Y')"
   ]
  },
  {
   "cell_type": "code",
   "execution_count": null,
   "id": "4b3d88c9",
   "metadata": {},
   "outputs": [],
   "source": [
    "path = \"/Users/Standard/Downloads/data_version_2.csv\""
   ]
  },
  {
   "cell_type": "code",
   "execution_count": 9,
   "id": "7be5c23f",
   "metadata": {},
   "outputs": [],
   "source": [
    "import itertools\n",
    "import csv\n",
    "import os\n",
    "\n",
    "file_in = '/Users/Standard/Downloads/Google_Market_Place_Data.csv'\n",
    "file_out = '/Users/Standard/Downloads/Facebook_Market_Place.csv'\n",
    "file_temp = '/Users/Standard/Downloads/temp.csv'\n",
    "\n",
    "with open(file_in, \"r\", newline='') as f_input, \\\n",
    "     open(file_out, \"a\", newline='') as f_output, \\\n",
    "     open(file_temp, \"w\", newline='') as f_temp:\n",
    "    \n",
    "    csv_input = csv.reader(f_input)\n",
    "\n",
    "    # Append first 50 rows to file_out\n",
    "    csv.writer(f_output).writerows(itertools.islice(csv_input, 0, 20000))\n",
    "\n",
    "    # Write the remaining rows from file_in to file_temp\n",
    "    csv.writer(f_temp).writerows(csv_input)\n",
    "\n",
    "# Rename f_temp to file_in, first remove existing file_in then rename temp file\n",
    "os.remove(file_in)\n",
    "os.rename(file_temp, file_in)"
   ]
  },
  {
   "cell_type": "code",
   "execution_count": 14,
   "id": "162fd48e",
   "metadata": {},
   "outputs": [],
   "source": [
    "import pandas as pd\n",
    "from string import digits\n",
    "  \n",
    "# reading the csv file\n",
    "df = pd.read_csv(\"/Users/Standard/Downloads/Facebook_Market_Place.csv\")\n",
    " \n",
    "for i in range(0,5000):                \n",
    "# updating the column value/data\n",
    "    #first_name = df.loc[i, 'First_Name'][:3]\n",
    "    #df.loc[i, 'First_Name'] = first_name\n",
    "    \n",
    " \n",
    "\n",
    "    remove_digits = str.maketrans('', '', digits)\n",
    "  \n",
    "    \n",
    "    street_name = df.loc[i, 'Street'].translate(remove_digits)\n",
    "    df.loc[i, 'Street'] = street_name\n",
    "  \n",
    "# writing into the file\n",
    "df.to_csv(\"/Users/Standard/Downloads/street_name.csv\", index=False)\n",
    "  \n"
   ]
  },
  {
   "cell_type": "code",
   "execution_count": 17,
   "id": "79641462",
   "metadata": {},
   "outputs": [],
   "source": [
    "m=[]\n",
    "t={}\n",
    "t[\"EMPTY\"] = \"\"\n",
    "m.append(t)\n",
    "mf = pd.DataFrame(m)\n",
    "mf.to_csv('empty_test.csv')"
   ]
  },
  {
   "cell_type": "code",
   "execution_count": null,
   "id": "1287e876",
   "metadata": {},
   "outputs": [],
   "source": []
  }
 ],
 "metadata": {
  "kernelspec": {
   "display_name": "Python 3 (ipykernel)",
   "language": "python",
   "name": "python3"
  },
  "language_info": {
   "codemirror_mode": {
    "name": "ipython",
    "version": 3
   },
   "file_extension": ".py",
   "mimetype": "text/x-python",
   "name": "python",
   "nbconvert_exporter": "python",
   "pygments_lexer": "ipython3",
   "version": "3.9.7"
  }
 },
 "nbformat": 4,
 "nbformat_minor": 5
}
