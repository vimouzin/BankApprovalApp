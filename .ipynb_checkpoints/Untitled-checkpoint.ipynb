{
 "cells": [
  {
   "cell_type": "code",
   "execution_count": null,
   "id": "0f82c29a",
   "metadata": {},
   "outputs": [],
   "source": [
    "k=[\"sourcedata_Patient_360_holistic_view_visits_drop-in.csv\",\"sourcedata_Patient_360_holistic_view_dbexport.csv\",\n",
    "      \"sourcedata_Patient_360_holistic_view_SCHEDULED_VISITS.csv\",\n",
    "   \"sourcedata_Patient_360_holistic_view_PatientAppointments.txt.csv\",\n",
    "   \"sourcedata_Patient_360_holistic_view_FHIR_ancillary.csv\",\n",
    "   \"sourcedata_Patient_360_holistic_view_APPTS_-_2019.csv\"\n",
    "  ]\n",
    "path = \"/Users/Standard/Desktop/patient_mastering_360_unique/\"\n",
    "h = 0\n",
    "for m in k:\n",
    "    with open(path+m,'r') as csvinput:\n",
    "        with open(path+m+\"OUTPUT\", 'w') as csvoutput:\n",
    "            writer = csv.writer(csvoutput, lineterminator='\\n')\n",
    "            reader = csv.reader(csvinput)\n",
    "\n",
    "            all = []\n",
    "            row = next(reader)\n",
    "            row.append(h)\n",
    "            all.append(row)\n",
    "            h= h+1\n",
    "            for row in reader:\n",
    "                row.append(row[0])\n",
    "                all.append(row)\n",
    "\n",
    "            writer.writerows(all)"
   ]
  }
 ],
 "metadata": {
  "kernelspec": {
   "display_name": "Python 3 (ipykernel)",
   "language": "python",
   "name": "python3"
  },
  "language_info": {
   "codemirror_mode": {
    "name": "ipython",
    "version": 3
   },
   "file_extension": ".py",
   "mimetype": "text/x-python",
   "name": "python",
   "nbconvert_exporter": "python",
   "pygments_lexer": "ipython3",
   "version": "3.9.7"
  }
 },
 "nbformat": 4,
 "nbformat_minor": 5
}
